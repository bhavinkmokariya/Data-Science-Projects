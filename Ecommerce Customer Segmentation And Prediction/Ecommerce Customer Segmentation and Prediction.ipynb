version https://git-lfs.github.com/spec/v1
oid sha256:cec305c719fdeced68cd4ff565639d47841702ca16df2b383f645313d8287eda
size 113290188
